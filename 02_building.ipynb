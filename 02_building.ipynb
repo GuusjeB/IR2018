{
 "cells": [
  {
   "cell_type": "markdown",
   "metadata": {},
   "source": [
    "# Assignment 2: Building a Simple Search Index"
   ]
  },
  {
   "cell_type": "markdown",
   "metadata": {},
   "source": [
    "In this assignment, we will build a simple search index, which we will use later for Boolean retrieval. The assignment tasks are again at the bottom of this document."
   ]
  },
  {
   "cell_type": "markdown",
   "metadata": {},
   "source": [
    "## Loading the Data"
   ]
  },
  {
   "cell_type": "code",
   "execution_count": 1,
   "metadata": {},
   "outputs": [],
   "source": [
    "Summaries_file = 'data/tree_Summaries.pkl.bz2'\n",
    "Abstracts_file = 'data/tree_Abstracts.pkl.bz2'"
   ]
  },
  {
   "cell_type": "code",
   "execution_count": 2,
   "metadata": {},
   "outputs": [],
   "source": [
    "import pickle, bz2\n",
    "from collections import namedtuple\n",
    "\n",
    "Summaries = pickle.load( bz2.BZ2File( Summaries_file, 'rb' ) )\n",
    "\n",
    "paper = namedtuple( 'paper', ['title', 'authors', 'year', 'doi'] )\n",
    "\n",
    "for (id, paper_info) in Summaries.items():\n",
    "    Summaries[id] = paper( *paper_info )\n",
    "    \n",
    "Abstracts = pickle.load( bz2.BZ2File( Abstracts_file, 'rb' ) )"
   ]
  },
  {
   "cell_type": "markdown",
   "metadata": {},
   "source": [
    "Let's have a look at what the data looks like for our example paper:"
   ]
  },
  {
   "cell_type": "code",
   "execution_count": 10,
   "metadata": {},
   "outputs": [
    {
     "data": {
      "text/plain": [
       "paper(title='Evolutionary history of the angiosperm flora of China.', authors=['Lu LM', 'Mao LF', 'Yang T', 'Ye JF', 'Liu B', 'Li HL', 'Sun M', 'Miller JT', 'Mathews S', 'Hu HH', 'Niu YT', 'Peng DX', 'Chen YH', 'Smith SA', 'Chen M', 'Xiang KL', 'Le CT', 'Dang VC', 'Lu AM', 'Soltis PS', 'Soltis DE', 'Li JH', 'Chen ZD'], year=2018, doi='10.1038/nature25485')"
      ]
     },
     "execution_count": 10,
     "metadata": {},
     "output_type": "execute_result"
    }
   ],
   "source": [
    "Summaries[29420476]"
   ]
  },
  {
   "cell_type": "code",
   "execution_count": 11,
   "metadata": {},
   "outputs": [
    {
     "data": {
      "text/plain": [
       "\"High species diversity may result from recent rapid speciation in a 'cradle' and/or the gradual accumulation and preservation of species over time in a 'museum'. China harbours nearly 10% of angiosperm species worldwide and has long been considered as both a museum, owing to the presence of many species with hypothesized ancient origins, and a cradle, as many lineages have originated as recent topographic changes and climatic shifts-such as the formation of the Qinghai-Tibetan Plateau and the development of the monsoon-provided new habitats that promoted remarkable radiation. However, no detailed phylogenetic study has addressed when and how the major components of the Chinese angiosperm flora assembled to form the present-day vegetation. Here we investigate the spatio-temporal divergence patterns of the Chinese flora using a dated phylogeny of 92% of the angiosperm genera for the region, a nearly complete species-level tree comprising 26,978 species and detailed spatial distribution data. We found that 66% of the angiosperm genera in China did not originate until early in the Miocene epoch (23 million years ago (Mya)). The flora of eastern China bears a signature of older divergence (mean divergence times of 22.04-25.39 Mya), phylogenetic overdispersion (spatial co-occurrence of distant relatives) and higher phylogenetic diversity. In western China, the flora shows more recent divergence (mean divergence times of 15.29-18.86 Mya), pronounced phylogenetic clustering (co-occurrence of close relatives) and lower phylogenetic diversity. Analyses of species-level phylogenetic diversity using simulated branch lengths yielded results similar to genus-level patterns. Our analyses indicate that eastern China represents a floristic museum, and western China an evolutionary cradle, for herbaceous genera; eastern China has served as both a museum and a cradle for woody genera. These results identify areas of high species richness and phylogenetic diversity, and provide a foundation on which to build conservation efforts in China.\""
      ]
     },
     "execution_count": 11,
     "metadata": {},
     "output_type": "execute_result"
    }
   ],
   "source": [
    "Abstracts[29420476]"
   ]
  },
  {
   "cell_type": "markdown",
   "metadata": {},
   "source": [
    "## Some Utility Functions"
   ]
  },
  {
   "cell_type": "markdown",
   "metadata": {},
   "source": [
    "We'll define some utility functions that allow us to tokenize a string into terms, perform linguistic preprocessing on a list of terms, as well as a function to display information about a paper in a nice way. Note that these tokenization and preprocessing functions are rather naive - you may have to make them smarter in a later assignment."
   ]
  },
  {
   "cell_type": "code",
   "execution_count": 7,
   "metadata": {},
   "outputs": [
    {
     "name": "stdout",
     "output_type": "stream",
     "text": [
      "['lorem', 'ipsum', 'dolor', 'sit', 'amet']\n"
     ]
    }
   ],
   "source": [
    "def tokenize(text):\n",
    "    \"\"\"\n",
    "    Function that tokenizes a string in a rather naive way. Can be extended later.\n",
    "    \"\"\"\n",
    "    return text.split(' ')\n",
    "\n",
    "def preprocess(tokens):\n",
    "    \"\"\"\n",
    "    Perform linguistic preprocessing on a list of tokens. Can be extended later.\n",
    "    \"\"\"\n",
    "    result = []\n",
    "    for token in tokens:\n",
    "        result.append(token.lower())\n",
    "    return result\n",
    "\n",
    "print(preprocess(tokenize(\"Lorem ipsum dolor sit AMET\")))"
   ]
  },
  {
   "cell_type": "code",
   "execution_count": 9,
   "metadata": {},
   "outputs": [
    {
     "data": {
      "text/html": [
       "<strong><a href=http://dx.doi.org/10.1038/nature25485>Evolutionary history of the angiosperm flora of China.</a></strong><br>2018. Lu LM, Mao LF, Yang T, Ye JF, Liu B, Li HL, Sun M, Miller JT, Mathews S, Hu HH, Niu YT, Peng DX, Chen YH, Smith SA, Chen M, Xiang KL, Le CT, Dang VC, Lu AM, Soltis PS, ...<br>[ID: 29420476]"
      ],
      "text/plain": [
       "<IPython.core.display.HTML object>"
      ]
     },
     "metadata": {},
     "output_type": "display_data"
    },
    {
     "data": {
      "text/html": [
       "<strong><a href=http://dx.doi.org/10.1038/nature25485>Evolutionary history of the angiosperm flora of China.</a></strong><br>2018. Lu LM, Mao LF, Yang T, Ye JF, Liu B, Li HL, Sun M, Miller JT, Mathews S, Hu HH, Niu YT, Peng DX, Chen YH, Smith SA, Chen M, Xiang KL, Le CT, Dang VC, Lu AM, Soltis PS, ...<br><small><strong>Abstract:</strong> <em>High species diversity may result from recent rapid speciation in a 'cradle' and/or the gradual accumulation and preservation of species over time in a 'museum'. China harbours nearly 10% of angiosperm species worldwide and has long been considered as both a museum, owing to the presence of many species with hypothesized ancient origins, and a cradle, as many lineages have originated as recent topographic changes and climatic shifts-such as the formation of the Qinghai-Tibetan Plateau and the development of the monsoon-provided new habitats that promoted remarkable radiation. However, no detailed phylogenetic study has addressed when and how the major components of the Chinese angiosperm flora assembled to form the present-day vegetation. Here we investigate the spatio-temporal divergence patterns of the Chinese flora using a dated phylogeny of 92% of the angiosperm genera for the region, a nearly complete species-level tree comprising 26,978 species and detailed spatial distribution data. We found that 66% of the angiosperm genera in China did not originate until early in the Miocene epoch (23 million years ago (Mya)). The flora of eastern China bears a signature of older divergence (mean divergence times of 22.04-25.39 Mya), phylogenetic overdispersion (spatial co-occurrence of distant relatives) and higher phylogenetic diversity. In western China, the flora shows more recent divergence (mean divergence times of 15.29-18.86 Mya), pronounced phylogenetic clustering (co-occurrence of close relatives) and lower phylogenetic diversity. Analyses of species-level phylogenetic diversity using simulated branch lengths yielded results similar to genus-level patterns. Our analyses indicate that eastern China represents a floristic museum, and western China an evolutionary cradle, for herbaceous genera; eastern China has served as both a museum and a cradle for woody genera. These results identify areas of high species richness and phylogenetic diversity, and provide a foundation on which to build conservation efforts in China.</em></small><br>[ID: 29420476]"
      ],
      "text/plain": [
       "<IPython.core.display.HTML object>"
      ]
     },
     "metadata": {},
     "output_type": "display_data"
    }
   ],
   "source": [
    "from IPython.display import display, HTML\n",
    "import re\n",
    "\n",
    "def display_summary( id, show_abstract=False, show_id=True, extra_text='' ):\n",
    "    \"\"\"\n",
    "    Function for printing a paper's summary through IPython's Rich Display System.\n",
    "    Trims long author lists, and adds a link to the paper's DOI (when available).\n",
    "    \"\"\"\n",
    "    s = Summaries[id]\n",
    "    lines = []\n",
    "    title = s.title\n",
    "    if s.doi != '':\n",
    "        title = '<a href=http://dx.doi.org/%s>%s</a>' % (s.doi, title)\n",
    "    title = '<strong>' + title + '</strong>'\n",
    "    lines.append(title)\n",
    "    authors = ', '.join( s.authors[:20] ) + ('' if len(s.authors) <= 20 else ', ...')\n",
    "    lines.append(str(s.year) + '. ' + authors)\n",
    "    if (show_abstract):\n",
    "        lines.append('<small><strong>Abstract:</strong> <em>%s</em></small>' % Abstracts[id])\n",
    "    if (show_id):\n",
    "        lines.append('[ID: %d]' % id)\n",
    "    if (extra_text != ''):\n",
    "         lines.append(extra_text)\n",
    "    display( HTML('<br>'.join(lines)) )\n",
    "\n",
    "display_summary(29420476)\n",
    "display_summary(29420476, show_abstract=True)"
   ]
  },
  {
   "cell_type": "markdown",
   "metadata": {},
   "source": [
    "## Creating our first index"
   ]
  },
  {
   "cell_type": "markdown",
   "metadata": {},
   "source": [
    "We will now create an _inverted index_ based on the words in the abstracts of the papers in our dataset.\n",
    "\n",
    "We will implement our inverted index as a **Python dictionary with terms as keys and posting lists as values**. For the posting lists, instead of using Python lists and then implementing the different operations on them ourselves, we will use **Python sets** and use the predefined set operations to process these posting \"lists\". This will also ensure that each document is added at most once per term. The use of Python sets is not the most efficient solution but will work for our purposes. (As an optional additional exercise, you can try to implement the posting lists as Python lists for this and the following assignments.)\n",
    "\n",
    "Not every paper in our dataset has an abstract; we will only index papers for which an abstract is available."
   ]
  },
  {
   "cell_type": "code",
   "execution_count": 12,
   "metadata": {},
   "outputs": [],
   "source": [
    "from collections import defaultdict\n",
    "\n",
    "inverted_index = defaultdict(set)\n",
    "\n",
    "# This may take a while:\n",
    "for (id, abstract) in Abstracts.items():\n",
    "    for term in preprocess(tokenize(abstract)):\n",
    "        inverted_index[term].add(id)"
   ]
  },
  {
   "cell_type": "markdown",
   "metadata": {},
   "source": [
    "Let's see what's in the index for the example term 'madagascar':"
   ]
  },
  {
   "cell_type": "code",
   "execution_count": 14,
   "metadata": {},
   "outputs": [
    {
     "name": "stdout",
     "output_type": "stream",
     "text": [
      "{5644801, 27394434, 17894402, 18077188, 27084294, 26860934, 25794184, 18058249, 12118407, 18424844, 28943886, 22611855, 12736783, 26044948, 26398231, 15975831, 28081689, 11458587, 114465, 11454629, 28547194, 12682922, 28556334, 11336751, 24661555, 23544118, 22937148, 15579390, 11729086, 24294082, 25809223, 22694729, 21989710, 26236886, 24228694, 27664344, 19773273, 23180122, 22019930, 27848158, 26360928, 18452578, 6772964, 21437928, 15019625, 17646954, 18280171, 26760300, 14653803, 21044207, 23495153, 27928691, 15619444, 28380021, 20079861, 23825658, 26377339, 23345276, 15977086, 10601983}\n"
     ]
    }
   ],
   "source": [
    "print(inverted_index['madagascar'])"
   ]
  },
  {
   "cell_type": "markdown",
   "metadata": {},
   "source": [
    "We can now use this inverted index to answer simple one-word queries, for example to show all papers that contain the word 'amsterdam':"
   ]
  },
  {
   "cell_type": "code",
   "execution_count": 16,
   "metadata": {},
   "outputs": [
    {
     "data": {
      "text/html": [
       "<strong>[Identification of 2 families with hereditary nonpolyposis colonic cancer (HNPCC) and the Amsterdam criteria. Relevance of the genealogic tree and follow-up].</strong><br>2000. Balmaña J, Brunet J, Capellà G, González D, Palicio M, Sancho FJ, Pericay C, López López JJ, Marcuello E<br>[ID: 10702951]"
      ],
      "text/plain": [
       "<IPython.core.display.HTML object>"
      ]
     },
     "metadata": {},
     "output_type": "display_data"
    },
    {
     "data": {
      "text/html": [
       "<strong><a href=http://dx.doi.org/10.1371/journal.pone.0077977>The role of Surinamese migrants in the transmission of Chlamydia trachomatis between Paramaribo, Suriname and Amsterdam, The Netherlands.</a></strong><br>2013. Bom RJ, van der Helm JJ, Bruisten SM, Grünberg AW, Sabajo LO, Schim van der Loeff MF, de Vries HJ<br>[ID: 24236009]"
      ],
      "text/plain": [
       "<IPython.core.display.HTML object>"
      ]
     },
     "metadata": {},
     "output_type": "display_data"
    },
    {
     "data": {
      "text/html": [
       "<strong>Molecular epidemiology of hepatitis B virus in Amsterdam 1992-1997.</strong><br>2002. van Steenbergen JE, Niesters HG, Op de Coul EL, van Doornum GJ, Osterhaus AD, Leentvaar-Kuijpers A, Coutinho RA, van den Hoek JA<br>[ID: 11782923]"
      ],
      "text/plain": [
       "<IPython.core.display.HTML object>"
      ]
     },
     "metadata": {},
     "output_type": "display_data"
    },
    {
     "data": {
      "text/html": [
       "<strong><a href=http://dx.doi.org/10.1007/s00239-003-0005-4>Morphological convergence in Hippidion and Equus (Amerhippus) South American equids elucidated by ancient DNA analysis.</a></strong><br>2003. Orlando L, Eisenmann V, Reynier F, Sondaar P, Hänni C<br>[ID: 15008401]"
      ],
      "text/plain": [
       "<IPython.core.display.HTML object>"
      ]
     },
     "metadata": {},
     "output_type": "display_data"
    },
    {
     "data": {
      "text/html": [
       "<strong>Occurrence of non-gastric cancer in the digestive tract after remote partial gastrectomy: analysis of an Amsterdam cohort.</strong><br>1990. Tersmette AC, Offerhaus GJ, Giardiello FM, Tersmette KW, Vandenbroucke JP, Tytgat GN<br>[ID: 2228307]"
      ],
      "text/plain": [
       "<IPython.core.display.HTML object>"
      ]
     },
     "metadata": {},
     "output_type": "display_data"
    },
    {
     "data": {
      "text/html": [
       "<strong>[Predictors of dementia, the construction of classification trees].</strong><br>2006. Comijs HC, Dik MG, Rijmen F, Jonker C, Van den Kommer TN, Deeg DJ<br>[ID: 17214420]"
      ],
      "text/plain": [
       "<IPython.core.display.HTML object>"
      ]
     },
     "metadata": {},
     "output_type": "display_data"
    },
    {
     "data": {
      "text/html": [
       "<strong>[Endoscopic prosthesis of the biliary tract].</strong><br>1991. Nowakowsk-Duxawa E, Nowak A, Waluga M, Baron J<br>[ID: 1714072]"
      ],
      "text/plain": [
       "<IPython.core.display.HTML object>"
      ]
     },
     "metadata": {},
     "output_type": "display_data"
    }
   ],
   "source": [
    "query_word = 'amsterdam'\n",
    "for i in inverted_index[query_word]:\n",
    "    display_summary(i)"
   ]
  },
  {
   "cell_type": "markdown",
   "metadata": {},
   "source": [
    "----------"
   ]
  },
  {
   "cell_type": "markdown",
   "metadata": {},
   "source": [
    "# Tasks"
   ]
  },
  {
   "cell_type": "markdown",
   "metadata": {},
   "source": [
    "**Your name:** ..."
   ]
  },
  {
   "cell_type": "markdown",
   "metadata": {},
   "source": [
    "### Task 1\n",
    "\n",
    "Construct a function called `and_query` that takes as input a single string, consisting of one or more words, and returns a list of matching documents. `and_query`, as its name suggests, should require that all query terms are present in the documents of the result list. Demonstrate the working of your function with an example (choose one that leads to fewer than 100 hits to not overblow this notebook file).\n",
    "\n",
    "(You can use the `tokenize` and `preprocess` functions we defined above to tokenize and preprocess your query. You can also exploit the fact that the posting lists are [sets](https://docs.python.org/3/library/stdtypes.html#set), which means you can easily perform set operations such as union, difference and intersect on them.)"
   ]
  },
  {
   "cell_type": "code",
   "execution_count": null,
   "metadata": {
    "scrolled": true
   },
   "outputs": [],
   "source": [
    "# Add your code here"
   ]
  },
  {
   "cell_type": "markdown",
   "metadata": {},
   "source": [
    "### Task 2\n",
    "\n",
    "Construct a second function called `or_query` that works in the same way as `and_query` you just implemented, but returns documents that contain _at least one_ of the words in the query. Demonstrate the working of this second function also with an example (again, choose one that leads to fewer than 100 hits)."
   ]
  },
  {
   "cell_type": "code",
   "execution_count": null,
   "metadata": {},
   "outputs": [],
   "source": [
    "# Add your code here"
   ]
  },
  {
   "cell_type": "markdown",
   "metadata": {},
   "source": [
    "### Task 3\n",
    "\n",
    "Show how many hits the query \"to be or not to be\" returns for your two query functions (`and_query` and `or_query`)."
   ]
  },
  {
   "cell_type": "code",
   "execution_count": null,
   "metadata": {},
   "outputs": [],
   "source": [
    "# Add your code here"
   ]
  },
  {
   "cell_type": "markdown",
   "metadata": {},
   "source": [
    "### Task 4\n",
    "\n",
    "Given the nature of our dataset, how many of the documents from task 3 do you think are actually about the [Shakespeare quote](https://en.wikipedia.org/wiki/To_be%2C_or_not_to_be)? What could you do to better handle such queries? (You don't have to implement this yet!)"
   ]
  },
  {
   "cell_type": "markdown",
   "metadata": {},
   "source": [
    "**Answer:** [Write your answer text here]"
   ]
  },
  {
   "cell_type": "markdown",
   "metadata": {},
   "source": [
    "### Task 5\n",
    "\n",
    "Why does `and_query('moringa seed extracts')` not return our example paper 28792522, even though it mentions moringa seed extracts in the abstract? (You do not have to implement anything to fix this yet!)"
   ]
  },
  {
   "cell_type": "markdown",
   "metadata": {},
   "source": [
    "**Answer:** [Write your answer text here]"
   ]
  },
  {
   "cell_type": "markdown",
   "metadata": {},
   "source": [
    "## Submission"
   ]
  },
  {
   "cell_type": "markdown",
   "metadata": {},
   "source": [
    "Submit the answers to the assignment as a modified version of this Notebook file (file with `.ipynb` extension) that includes your code and your answers via Canvas. Don't forget to add your name, and remember that the assignments have to be done individually and group submissions are **not allowed**."
   ]
  }
 ],
 "metadata": {
  "kernelspec": {
   "display_name": "Python 2",
   "language": "python",
   "name": "python2"
  },
  "language_info": {
   "codemirror_mode": {
    "name": "ipython",
    "version": 3
   },
   "file_extension": ".py",
   "mimetype": "text/x-python",
   "name": "python",
   "nbconvert_exporter": "python",
   "pygments_lexer": "ipython3",
   "version": "3.6.5"
  }
 },
 "nbformat": 4,
 "nbformat_minor": 1
}
